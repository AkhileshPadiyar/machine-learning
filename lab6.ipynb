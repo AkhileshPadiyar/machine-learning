{
  "nbformat": 4,
  "nbformat_minor": 0,
  "metadata": {
    "colab": {
      "provenance": [],
      "authorship_tag": "ABX9TyOqP4pmsm0ewy4isfWEE3X6",
      "include_colab_link": true
    },
    "kernelspec": {
      "name": "python3",
      "display_name": "Python 3"
    },
    "language_info": {
      "name": "python"
    }
  },
  "cells": [
    {
      "cell_type": "markdown",
      "metadata": {
        "id": "view-in-github",
        "colab_type": "text"
      },
      "source": [
        "<a href=\"https://colab.research.google.com/github/AkhileshPadiyar/machine-learning/blob/main/lab6.ipynb\" target=\"_parent\"><img src=\"https://colab.research.google.com/assets/colab-badge.svg\" alt=\"Open In Colab\"/></a>"
      ]
    },
    {
      "cell_type": "code",
      "source": [
        "import numpy as np"
      ],
      "metadata": {
        "id": "eXWKQ9OdKJGd"
      },
      "execution_count": 53,
      "outputs": []
    },
    {
      "cell_type": "code",
      "source": [
        "from tensorflow import keras"
      ],
      "metadata": {
        "id": "jt_CZr3GBEjx"
      },
      "execution_count": 54,
      "outputs": []
    },
    {
      "cell_type": "code",
      "source": [
        "from keras.models import Model"
      ],
      "metadata": {
        "id": "0xxiYrCLG_DT"
      },
      "execution_count": 55,
      "outputs": []
    },
    {
      "cell_type": "code",
      "source": [
        "from keras.layers import Dense,Flatten,Conv2D, Input"
      ],
      "metadata": {
        "id": "LZaU_bmABj5_"
      },
      "execution_count": 56,
      "outputs": []
    },
    {
      "cell_type": "code",
      "source": [
        "from keras.datasets import fashion_mnist"
      ],
      "metadata": {
        "id": "43Fk-hu7BqHS"
      },
      "execution_count": 57,
      "outputs": []
    },
    {
      "cell_type": "code",
      "source": [
        "(train_images, train_labels),(test_images, test_labels) = fashion_mnist.load_data()"
      ],
      "metadata": {
        "id": "oKaD8-bWB_hp"
      },
      "execution_count": 58,
      "outputs": []
    },
    {
      "cell_type": "code",
      "source": [
        "train_images, test_images = train_images/255.0, test_images/255.0"
      ],
      "metadata": {
        "id": "KI9v2Pt6ERwV"
      },
      "execution_count": 59,
      "outputs": []
    },
    {
      "cell_type": "code",
      "source": [
        "train_images = train_images.reshape(-1,28,28,1)\n",
        "test_images = test_images.reshape(-1,28,28,1)"
      ],
      "metadata": {
        "id": "xCl3FRZwJ1NU"
      },
      "execution_count": 60,
      "outputs": []
    },
    {
      "cell_type": "code",
      "source": [
        "import matplotlib.pyplot as plt"
      ],
      "metadata": {
        "id": "dGZEkt15EhJ1"
      },
      "execution_count": 61,
      "outputs": []
    },
    {
      "cell_type": "code",
      "source": [
        "plt.imshow(train_images[100].reshape(28,28), cmap='gray')"
      ],
      "metadata": {
        "colab": {
          "base_uri": "https://localhost:8080/",
          "height": 447
        },
        "id": "wEJnfiIsEnaK",
        "outputId": "06f74f5f-ed2e-412f-f88a-b93b785865ec"
      },
      "execution_count": 62,
      "outputs": [
        {
          "output_type": "execute_result",
          "data": {
            "text/plain": [
              "<matplotlib.image.AxesImage at 0x7f0ab302b050>"
            ]
          },
          "metadata": {},
          "execution_count": 62
        },
        {
          "output_type": "display_data",
          "data": {
            "text/plain": [
              "<Figure size 640x480 with 1 Axes>"
            ],
            "image/png": "[encoded data removed]"
          },
          "metadata": {}
        }
      ]
    },
    {
      "cell_type": "code",
      "source": [
        "def create_model():\n",
        "  inputs = Input(shape = (28,28,1))\n",
        "  x = Conv2D(32, (3,3), activation = 'relu', padding = \"same\")(inputs)\n",
        "  x = Conv2D(64 , (3, 3), activation = 'relu', padding = 'same')(x)\n",
        "  x = Conv2D(128, (3,3), activation = 'relu', padding = 'same')(x)\n",
        "  x = Conv2D(128, (3,3), activation = 'relu', padding = 'same')(x)\n",
        "  x = Flatten()(x)\n",
        "  x = Dense(128, activation = 'relu')(x)\n",
        "  outputs = Dense(10, activation = 'softmax')(x)\n",
        "\n",
        "  model = Model(inputs = inputs, outputs = outputs)\n",
        "  model.compile(optimizer = 'adam', loss = 'sparse_categorical_crossentropy', metrics = ['accuracy'])\n",
        "  return model"
      ],
      "metadata": {
        "id": "pB_YcPjDEuCJ"
      },
      "execution_count": 67,
      "outputs": []
    },
    {
      "cell_type": "code",
      "source": [
        "import tensorflow as tf\n",
        "import time"
      ],
      "metadata": {
        "id": "XMpRrbRKInPj"
      },
      "execution_count": 68,
      "outputs": []
    },
    {
      "cell_type": "code",
      "source": [
        "def train_and_evaluate(device_name, epochs = 10):\n",
        "  with tf.device(device_name):\n",
        "    model = create_model()\n",
        "    start_time = time.time()\n",
        "    history = model.fit(train_images, train_labels, epochs = epochs, validation_data=(test_images, test_labels), verbose = 2)\n",
        "    end_time = time.time()\n",
        "    return history.history['accuracy'], history.history['val_accuracy'],end_time - start_time"
      ],
      "metadata": {
        "id": "lYhdhgTqFhWV"
      },
      "execution_count": 69,
      "outputs": []
    },
    {
      "cell_type": "code",
      "source": [
        "# train on cpu\n",
        "cpu_acc, cpu_val_acc, cpu_time = train_and_evaluate('/CPU:0')\n"
      ],
      "metadata": {
        "colab": {
          "base_uri": "https://localhost:8080/"
        },
        "id": "PWab4IT4IMp5",
        "outputId": "450c9124-12c8-47ef-f31e-ef9aaf94c74d"
      },
      "execution_count": null,
      "outputs": [
        {
          "output_type": "stream",
          "name": "stdout",
          "text": [
            "Epoch 1/10\n"
          ]
        }
      ]
    },
    {
      "cell_type": "code",
      "source": [
        "gpu_avaliable = tf.config.list_physical_devices('GPU')\n",
        "if gpu_avaliable:\n",
        "  gpu_acc, gpu_val_acc, gpu_time = train_and_evaluate('/GPU:0')\n",
        "else:\n",
        "  gpu_acc, gpu_val_acc, gpu_time = None, None, None"
      ],
      "metadata": {
        "id": "weNBQkhqIfzZ"
      },
      "execution_count": 71,
      "outputs": []
    },
    {
      "cell_type": "code",
      "source": [
        "plt.plot(cpu_acc, labels = 'Cpu Training Accuracy')\n",
        "plt.plot(cpu_val_acc, labels = 'Cpu Validation Accuracy')\n",
        "if gpu_acc:\n",
        "  plt.plot(gpu_acc, labels = \"Gpu Training Accuracy\", linestyle = 'dashed')\n",
        "  plt.plot(gpu_val_acc, labels = \"Gpu Validation Accuracy\", linestyle = 'dashed')\n",
        "\n",
        "plt.xlabel(\"Epochs\")\n",
        "plt.ylabel(\"Accuracy\")\n",
        "plt.legend()\n",
        "plt.show()"
      ],
      "metadata": {
        "colab": {
          "base_uri": "https://localhost:8080/",
          "height": 211
        },
        "id": "EOk0TXcXMPZx",
        "outputId": "e9b8c1f0-acb9-47e0-eace-e905874a6437"
      },
      "execution_count": 72,
      "outputs": [
        {
          "output_type": "error",
          "ename": "NameError",
          "evalue": "name 'cpu_acc' is not defined",
          "traceback": [
            "\u001b[0;31m---------------------------------------------------------------------------\u001b[0m",
            "\u001b[0;31mNameError\u001b[0m                                 Traceback (most recent call last)",
            "\u001b[0;32m<ipython-input-72-33ec3c9614e4>\u001b[0m in \u001b[0;36m<cell line: 0>\u001b[0;34m()\u001b[0m\n\u001b[0;32m----> 1\u001b[0;31m \u001b[0mplt\u001b[0m\u001b[0;34m.\u001b[0m\u001b[0mplot\u001b[0m\u001b[0;34m(\u001b[0m\u001b[0mcpu_acc\u001b[0m\u001b[0;34m,\u001b[0m \u001b[0mlabels\u001b[0m \u001b[0;34m=\u001b[0m \u001b[0;34m'Cpu Training Accuracy'\u001b[0m\u001b[0;34m)\u001b[0m\u001b[0;34m\u001b[0m\u001b[0;34m\u001b[0m\u001b[0m\n\u001b[0m\u001b[1;32m      2\u001b[0m \u001b[0mplt\u001b[0m\u001b[0;34m.\u001b[0m\u001b[0mplot\u001b[0m\u001b[0;34m(\u001b[0m\u001b[0mcpu_val_acc\u001b[0m\u001b[0;34m,\u001b[0m \u001b[0mlabels\u001b[0m \u001b[0;34m=\u001b[0m \u001b[0;34m'Cpu Validation Accuracy'\u001b[0m\u001b[0;34m)\u001b[0m\u001b[0;34m\u001b[0m\u001b[0;34m\u001b[0m\u001b[0m\n\u001b[1;32m      3\u001b[0m \u001b[0;32mif\u001b[0m \u001b[0mgpu_acc\u001b[0m\u001b[0;34m:\u001b[0m\u001b[0;34m\u001b[0m\u001b[0;34m\u001b[0m\u001b[0m\n\u001b[1;32m      4\u001b[0m   \u001b[0mplt\u001b[0m\u001b[0;34m.\u001b[0m\u001b[0mplot\u001b[0m\u001b[0;34m(\u001b[0m\u001b[0mgpu_acc\u001b[0m\u001b[0;34m,\u001b[0m \u001b[0mlabels\u001b[0m \u001b[0;34m=\u001b[0m \u001b[0;34m\"Gpu Training Accuracy\"\u001b[0m\u001b[0;34m,\u001b[0m \u001b[0mlinestyle\u001b[0m \u001b[0;34m=\u001b[0m \u001b[0;34m'dashed'\u001b[0m\u001b[0;34m)\u001b[0m\u001b[0;34m\u001b[0m\u001b[0;34m\u001b[0m\u001b[0m\n\u001b[1;32m      5\u001b[0m   \u001b[0mplt\u001b[0m\u001b[0;34m.\u001b[0m\u001b[0mplot\u001b[0m\u001b[0;34m(\u001b[0m\u001b[0mgpu_val_acc\u001b[0m\u001b[0;34m,\u001b[0m \u001b[0mlabels\u001b[0m \u001b[0;34m=\u001b[0m \u001b[0;34m\"Gpu Validation Accuracy\"\u001b[0m\u001b[0;34m,\u001b[0m \u001b[0mlinestyle\u001b[0m \u001b[0;34m=\u001b[0m \u001b[0;34m'dashed'\u001b[0m\u001b[0;34m)\u001b[0m\u001b[0;34m\u001b[0m\u001b[0;34m\u001b[0m\u001b[0m\n",
            "\u001b[0;31mNameError\u001b[0m: name 'cpu_acc' is not defined"
          ]
        }
      ]
    },
    {
      "cell_type": "code",
      "source": [
        "print(f'cpu time : {cpu_time: .2f} seconds')\n",
        "print(f'gpu time: {gpu_time: .2f} seconds')"
      ],
      "metadata": {
        "id": "sDIN3R9HM-pg"
      },
      "execution_count": null,
      "outputs": []
    },
    {
      "cell_type": "code",
      "source": [],
      "metadata": {
        "id": "a8HdGPdJNRBR"
      },
      "execution_count": null,
      "outputs": []
    }
  ]
}